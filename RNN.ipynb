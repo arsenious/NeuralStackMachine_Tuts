{
 "cells": [
  {
   "cell_type": "code",
   "execution_count": 1,
   "metadata": {
    "collapsed": true
   },
   "outputs": [],
   "source": [
    "import copy, numpy as np\n",
    "np.random.seed(0)"
   ]
  },
  {
   "cell_type": "code",
   "execution_count": 2,
   "metadata": {
    "collapsed": true
   },
   "outputs": [],
   "source": [
    "def sig(x):\n",
    "    return(1/(1+np.exp(-x)))\n",
    "\n",
    "def sig_d(o):\n",
    "    return(o*(1-o))"
   ]
  },
  {
   "cell_type": "code",
   "execution_count": 5,
   "metadata": {
    "collapsed": true
   },
   "outputs": [],
   "source": [
    "#Training set\n",
    "\n",
    "int2binary = {}\n",
    "binary_dim = 8\n",
    "\n",
    "largest_number = 2**binary_dim\n",
    "\n",
    "binary = np.unpackbits(\n",
    "    np.array([range(largest_number)], dtype=np.uint8).T, axis=1\n",
    ")\n",
    "\n",
    "for i in xrange(largest_number):\n",
    "    int2binary[i] = binary[i]\n",
    "    \n",
    "#int2binary contains integers 0 to 255 as keys\n",
    "# with their binary rep in 1D array format"
   ]
  },
  {
   "cell_type": "code",
   "execution_count": 6,
   "metadata": {
    "collapsed": false
   },
   "outputs": [
    {
     "name": "stdout",
     "output_type": "stream",
     "text": [
      "Variable         Type        Data/Info\n",
      "--------------------------------------\n",
      "binary           ndarray     256x8: 2048 elems, type `uint8`, 2048 bytes\n",
      "binary_dim       int         8\n",
      "copy             module      <module 'copy' from '/hom<...>/lib/python2.7/copy.pyc'>\n",
      "i                int         255\n",
      "int2binary       dict        n=256\n",
      "largest_number   int         256\n",
      "np               module      <module 'numpy' from '/ho<...>ages/numpy/__init__.pyc'>\n",
      "sig              function    <function sig at 0x7f5f518aa500>\n",
      "sig_d            function    <function sig_d at 0x7f5f518aa578>\n"
     ]
    }
   ],
   "source": [
    "%whos"
   ]
  },
  {
   "cell_type": "code",
   "execution_count": 9,
   "metadata": {
    "collapsed": false
   },
   "outputs": [],
   "source": [
    "#Model params\n",
    "\n",
    "alpha = 0.1\n",
    "input_dim = 2\n",
    "hidden_dim = 16\n",
    "output_dim = 1\n"
   ]
  },
  {
   "cell_type": "code",
   "execution_count": 10,
   "metadata": {
    "collapsed": true
   },
   "outputs": [],
   "source": [
    "#Init net with random weights\n",
    "\n",
    "syn0 = 2*np.random.random((input_dim, hidden_dim)) - 1\n",
    "synh = 2*np.random.random((hidden_dim, hidden_dim)) - 1\n",
    "syn1 = 2*np.random.random((hidden_dim, output_dim)) - 1\n",
    "\n",
    "syn0_u = np.zeros_like(syn0) #zeros like replicates an array but with 0s\n",
    "synh_u = np.zeros_like(synh)\n",
    "syn1_u = np.zeros_like(syn1)"
   ]
  },
  {
   "cell_type": "code",
   "execution_count": 11,
   "metadata": {
    "collapsed": true
   },
   "outputs": [],
   "source": [
    "def gen_prob():\n",
    "    \n",
    "    #Generating a + b = c , in binary\n",
    "    a_int = np.random.randint(largest_number/2)\n",
    "    a = int2binary[a_int]\n",
    "    \n",
    "    b_int = np.random.randint(largest_number/2)\n",
    "    b = int2binary[b_int]\n",
    "    \n",
    "    c_int = a_int + b_int\n",
    "    c = int2binary[c_int]\n",
    "    \n",
    "    return(a,b,c)"
   ]
  },
  {
   "cell_type": "code",
   "execution_count": 14,
   "metadata": {
    "collapsed": false
   },
   "outputs": [
    {
     "name": "stdout",
     "output_type": "stream",
     "text": [
      "(array([0, 0, 1, 0, 0, 0, 1, 1], dtype=uint8), array([0, 1, 0, 1, 0, 0, 1, 1], dtype=uint8), array([0, 1, 1, 1, 0, 1, 1, 0], dtype=uint8))\n"
     ]
    }
   ],
   "source": [
    "a,b,c = gen_prob()\n",
    "print(a,b,c)"
   ]
  },
  {
   "cell_type": "code",
   "execution_count": null,
   "metadata": {
    "collapsed": true
   },
   "outputs": [],
   "source": [
    "#Training logic\n",
    "\n",
    "for iter in xrange(10000):\n",
    "    \n",
    "    a,b,c = gen_prob()\n",
    "    d = np.zeros_like(c) #to store our guesses\n",
    "    \n",
    "    overallError = 0\n",
    "    \n",
    "    l2_del = list()\n",
    "    l1_del = list()\n",
    "    l1_values.append(np.zeros(hidden_dim))\n",
    "    \n",
    "    #######Start from Line 64\n",
    "    \n",
    "    "
   ]
  },
  {
   "cell_type": "code",
   "execution_count": null,
   "metadata": {
    "collapsed": true
   },
   "outputs": [],
   "source": []
  },
  {
   "cell_type": "code",
   "execution_count": 15,
   "metadata": {
    "collapsed": true
   },
   "outputs": [],
   "source": []
  },
  {
   "cell_type": "code",
   "execution_count": 16,
   "metadata": {
    "collapsed": false
   },
   "outputs": [
    {
     "data": {
      "text/plain": [
       "7"
      ]
     },
     "execution_count": 16,
     "metadata": {},
     "output_type": "execute_result"
    }
   ],
   "source": []
  },
  {
   "cell_type": "code",
   "execution_count": 17,
   "metadata": {
    "collapsed": true
   },
   "outputs": [],
   "source": []
  },
  {
   "cell_type": "code",
   "execution_count": 18,
   "metadata": {
    "collapsed": false
   },
   "outputs": [
    {
     "data": {
      "text/plain": [
       "7"
      ]
     },
     "execution_count": 18,
     "metadata": {},
     "output_type": "execute_result"
    }
   ],
   "source": []
  },
  {
   "cell_type": "code",
   "execution_count": null,
   "metadata": {
    "collapsed": true
   },
   "outputs": [],
   "source": []
  }
 ],
 "metadata": {
  "kernelspec": {
   "display_name": "Python 2",
   "language": "python",
   "name": "python2"
  },
  "language_info": {
   "codemirror_mode": {
    "name": "ipython",
    "version": 2
   },
   "file_extension": ".py",
   "mimetype": "text/x-python",
   "name": "python",
   "nbconvert_exporter": "python",
   "pygments_lexer": "ipython2",
   "version": "2.7.11"
  }
 },
 "nbformat": 4,
 "nbformat_minor": 0
}
