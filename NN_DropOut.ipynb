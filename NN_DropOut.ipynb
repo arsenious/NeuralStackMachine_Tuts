{
 "cells": [
  {
   "cell_type": "code",
   "execution_count": 2,
   "metadata": {
    "collapsed": false
   },
   "outputs": [],
   "source": [
    "import numpy as np\n",
    "\n",
    "X = np.array([ [0,0,1],[0,1,1],[1,0,1],[1,1,1] ])\n",
    "\n",
    "y = np.array([[0,1,1,0]]).T"
   ]
  },
  {
   "cell_type": "code",
   "execution_count": 15,
   "metadata": {
    "collapsed": true
   },
   "outputs": [],
   "source": [
    "alpha, hidden_dim, d_p, do_d = (0.5, 4, 20.0/100, True)"
   ]
  },
  {
   "cell_type": "code",
   "execution_count": 16,
   "metadata": {
    "collapsed": false
   },
   "outputs": [
    {
     "name": "stdout",
     "output_type": "stream",
     "text": [
      "Variable     Type       Data/Info\n",
      "---------------------------------\n",
      "X            ndarray    4x3: 12 elems, type `int64`, 96 bytes\n",
      "alpha        float      0.5\n",
      "d_p          float      0.2\n",
      "do_d         bool       True\n",
      "hidden_dim   int        4\n",
      "np           module     <module 'numpy' from '/ho<...>ages/numpy/__init__.pyc'>\n",
      "y            ndarray    4x1: 4 elems, type `int64`, 32 bytes\n"
     ]
    }
   ],
   "source": [
    "%whos"
   ]
  },
  {
   "cell_type": "code",
   "execution_count": 17,
   "metadata": {
    "collapsed": true
   },
   "outputs": [],
   "source": [
    "syn0 = 2*np.random.random((3,hidden_dim)) - 1\n",
    "syn1 = 2*np.random.random((hidden_dim,1)) - 1"
   ]
  },
  {
   "cell_type": "code",
   "execution_count": 18,
   "metadata": {
    "collapsed": true
   },
   "outputs": [],
   "source": [
    "def sig(x):\n",
    "    return(1/(1+np.exp(-x)))\n",
    "\n",
    "def sig_d(o):\n",
    "    return(o*(1-o))"
   ]
  },
  {
   "cell_type": "code",
   "execution_count": 27,
   "metadata": {
    "collapsed": false
   },
   "outputs": [
    {
     "name": "stdout",
     "output_type": "stream",
     "text": [
      "[[ 0.00663703]\n",
      " [ 0.91540997]\n",
      " [ 0.76450266]\n",
      " [ 0.00920367]]\n",
      "*****\n",
      "[[ 0.00398023]\n",
      " [ 0.91824229]\n",
      " [ 0.79022298]\n",
      " [ 0.00607958]]\n",
      "*****\n",
      "[[ 0.00440819]\n",
      " [ 0.90224984]\n",
      " [ 0.90288682]\n",
      " [ 0.0013873 ]]\n",
      "*****\n",
      "[[ 0.001754  ]\n",
      " [ 0.79519903]\n",
      " [ 0.88714207]\n",
      " [ 0.00426214]]\n",
      "*****\n",
      "[[  2.37054742e-03]\n",
      " [  9.39925496e-01]\n",
      " [  7.46547999e-01]\n",
      " [  9.11940419e-04]]\n",
      "*****\n",
      "[[  7.33508580e-01]\n",
      " [  7.22290440e-01]\n",
      " [  9.00753955e-01]\n",
      " [  8.48369903e-04]]\n",
      "*****\n"
     ]
    },
    {
     "name": "stderr",
     "output_type": "stream",
     "text": [
      "/home/rahul/anaconda2/lib/python2.7/site-packages/ipykernel/__main__.py:2: RuntimeWarning: overflow encountered in exp\n",
      "  from ipykernel import kernelapp as app\n"
     ]
    },
    {
     "name": "stdout",
     "output_type": "stream",
     "text": [
      "[[ 0.00088511]\n",
      " [ 0.88099169]\n",
      " [ 0.59630636]\n",
      " [ 0.00393995]]\n",
      "*****\n"
     ]
    },
    {
     "ename": "KeyboardInterrupt",
     "evalue": "",
     "output_type": "error",
     "traceback": [
      "\u001b[1;31m---------------------------------------------------------------------------\u001b[0m",
      "\u001b[1;31mKeyboardInterrupt\u001b[0m                         Traceback (most recent call last)",
      "\u001b[1;32m<ipython-input-27-22d904fbc7d0>\u001b[0m in \u001b[0;36m<module>\u001b[1;34m()\u001b[0m\n\u001b[0;32m      8\u001b[0m \u001b[1;33m\u001b[0m\u001b[0m\n\u001b[0;32m      9\u001b[0m             \u001b[1;33m[\u001b[0m\u001b[0mnp\u001b[0m\u001b[1;33m.\u001b[0m\u001b[0mones\u001b[0m\u001b[1;33m(\u001b[0m\u001b[1;33m(\u001b[0m\u001b[0mlen\u001b[0m\u001b[1;33m(\u001b[0m\u001b[0mX\u001b[0m\u001b[1;33m)\u001b[0m\u001b[1;33m,\u001b[0m \u001b[0mhidden_dim\u001b[0m\u001b[1;33m)\u001b[0m\u001b[1;33m)\u001b[0m\u001b[1;33m]\u001b[0m\u001b[1;33m,\u001b[0m\u001b[1;33m\u001b[0m\u001b[0m\n\u001b[1;32m---> 10\u001b[1;33m             1 - d_p)[0] * (1.0/(1-d_p))\n\u001b[0m\u001b[0;32m     11\u001b[0m \u001b[1;33m\u001b[0m\u001b[0m\n\u001b[0;32m     12\u001b[0m \u001b[1;33m\u001b[0m\u001b[0m\n",
      "\u001b[1;32mmtrand.pyx\u001b[0m in \u001b[0;36mmtrand.RandomState.binomial (numpy/random/mtrand/mtrand.c:28242)\u001b[1;34m()\u001b[0m\n",
      "\u001b[1;32m/home/rahul/anaconda2/lib/python2.7/site-packages/numpy/core/fromnumeric.pyc\u001b[0m in \u001b[0;36many\u001b[1;34m(a, axis, out, keepdims)\u001b[0m\n\u001b[0;32m   1898\u001b[0m \u001b[1;33m\u001b[0m\u001b[0m\n\u001b[0;32m   1899\u001b[0m \u001b[1;33m\u001b[0m\u001b[0m\n\u001b[1;32m-> 1900\u001b[1;33m \u001b[1;32mdef\u001b[0m \u001b[0many\u001b[0m\u001b[1;33m(\u001b[0m\u001b[0ma\u001b[0m\u001b[1;33m,\u001b[0m \u001b[0maxis\u001b[0m\u001b[1;33m=\u001b[0m\u001b[0mNone\u001b[0m\u001b[1;33m,\u001b[0m \u001b[0mout\u001b[0m\u001b[1;33m=\u001b[0m\u001b[0mNone\u001b[0m\u001b[1;33m,\u001b[0m \u001b[0mkeepdims\u001b[0m\u001b[1;33m=\u001b[0m\u001b[0mnp\u001b[0m\u001b[1;33m.\u001b[0m\u001b[0m_NoValue\u001b[0m\u001b[1;33m)\u001b[0m\u001b[1;33m:\u001b[0m\u001b[1;33m\u001b[0m\u001b[0m\n\u001b[0m\u001b[0;32m   1901\u001b[0m     \"\"\"\n\u001b[0;32m   1902\u001b[0m     \u001b[0mTest\u001b[0m \u001b[0mwhether\u001b[0m \u001b[0many\u001b[0m \u001b[0marray\u001b[0m \u001b[0melement\u001b[0m \u001b[0malong\u001b[0m \u001b[0ma\u001b[0m \u001b[0mgiven\u001b[0m \u001b[0maxis\u001b[0m \u001b[0mevaluates\u001b[0m \u001b[0mto\u001b[0m \u001b[0mTrue\u001b[0m\u001b[1;33m.\u001b[0m\u001b[1;33m\u001b[0m\u001b[0m\n",
      "\u001b[1;31mKeyboardInterrupt\u001b[0m: "
     ]
    }
   ],
   "source": [
    "for iter in xrange(700000):\n",
    "    \n",
    "    #Fwd\n",
    "    l1 = sig(np.dot(X, syn0))\n",
    "    \n",
    "    if(do_d):\n",
    "        l1 = l1 * np.random.binomial(\n",
    "            \n",
    "            [np.ones((len(X), hidden_dim))],\n",
    "            1 - d_p)[0] * (1.0/(1-d_p))\n",
    "        \n",
    "        \n",
    "    l2 = sig(np.dot(l1, syn1))\n",
    "    \n",
    "    #Back\n",
    "    \n",
    "    l2_del = (l2 - y) * sig_d(l2)\n",
    "    l1_del = np.dot(l2_del, syn1.T) * sig_d(l1)\n",
    "    \n",
    "    syn1 -= (alpha * np.dot(l1.T, l2_del))\n",
    "    syn0 -= (alpha * np.dot(X.T,  l1_del))\n",
    "    \n",
    "    if iter%100000==0:\n",
    "        print(l2)\n",
    "        print(\"*****\")"
   ]
  },
  {
   "cell_type": "code",
   "execution_count": 26,
   "metadata": {
    "collapsed": false
   },
   "outputs": [
    {
     "name": "stdout",
     "output_type": "stream",
     "text": [
      "[[ 0.41963183]\n",
      " [ 0.38779427]\n",
      " [ 0.32905122]\n",
      " [ 0.35736131]]\n",
      "[[ 0.12239089]\n",
      " [ 0.95771924]\n",
      " [ 0.99638866]\n",
      " [ 0.10038675]]\n",
      "[[ 0.03739227]\n",
      " [ 0.41393245]\n",
      " [ 0.92915471]\n",
      " [ 0.52164696]]\n",
      "[[ 0.05320669]\n",
      " [ 0.93871094]\n",
      " [ 0.99616886]\n",
      " [ 0.05562511]]\n",
      "[[ 0.00312003]\n",
      " [ 0.4930627 ]\n",
      " [ 0.92112547]\n",
      " [ 0.00306919]]\n",
      "[[ 0.04748418]\n",
      " [ 0.9314812 ]\n",
      " [ 0.95255075]\n",
      " [ 0.06046726]]\n",
      "[[ 0.12329674]\n",
      " [ 0.56695406]\n",
      " [ 0.97386857]\n",
      " [ 0.0662658 ]]\n"
     ]
    }
   ],
   "source": [
    "import numpy as np\n",
    "X = np.array([ [0,0,1],[0,1,1],[1,0,1],[1,1,1] ])\n",
    "y = np.array([[0,1,1,0]]).T\n",
    "alpha,hidden_dim,dropout_percent,do_dropout = (0.5,4,0.2,True)\n",
    "synapse_0 = 2*np.random.random((3,hidden_dim)) - 1\n",
    "synapse_1 = 2*np.random.random((hidden_dim,1)) - 1\n",
    "for j in xrange(70000):\n",
    "    layer_1 = (1/(1+np.exp(-(np.dot(X,synapse_0)))))\n",
    "    if(do_dropout):\n",
    "        layer_1 *= np.random.binomial([np.ones((len(X),hidden_dim))],1-dropout_percent)[0] * (1.0/(1-dropout_percent))\n",
    "    layer_2 = 1/(1+np.exp(-(np.dot(layer_1,synapse_1))))\n",
    "    layer_2_delta = (layer_2 - y)*(layer_2*(1-layer_2))\n",
    "    layer_1_delta = layer_2_delta.dot(synapse_1.T) * (layer_1 * (1-layer_1))\n",
    "    synapse_1 -= (alpha * layer_1.T.dot(layer_2_delta))\n",
    "    synapse_0 -= (alpha * X.T.dot(layer_1_delta))\n",
    "    if j%10000==0: print(layer_2)"
   ]
  },
  {
   "cell_type": "code",
   "execution_count": null,
   "metadata": {
    "collapsed": true
   },
   "outputs": [],
   "source": []
  }
 ],
 "metadata": {
  "kernelspec": {
   "display_name": "Python 2",
   "language": "python",
   "name": "python2"
  },
  "language_info": {
   "codemirror_mode": {
    "name": "ipython",
    "version": 2
   },
   "file_extension": ".py",
   "mimetype": "text/x-python",
   "name": "python",
   "nbconvert_exporter": "python",
   "pygments_lexer": "ipython2",
   "version": "2.7.11"
  }
 },
 "nbformat": 4,
 "nbformat_minor": 0
}
